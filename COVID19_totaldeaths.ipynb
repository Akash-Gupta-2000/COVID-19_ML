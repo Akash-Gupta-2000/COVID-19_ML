{
 "cells": [
  {
   "cell_type": "markdown",
   "metadata": {},
   "source": [
    "# COVID-19 Deaths Prediction in 5 most Populated Countries"
   ]
  },
  {
   "cell_type": "markdown",
   "metadata": {
    "colab_type": "text",
    "id": "wi6PePOgqWL0"
   },
   "source": [
    "# **Import The Libraries** \n",
    "\n",
    "\n",
    "\n"
   ]
  },
  {
   "cell_type": "code",
   "execution_count": 1,
   "metadata": {
    "colab": {},
    "colab_type": "code",
    "id": "10aRGtTtqXKj"
   },
   "outputs": [],
   "source": [
    "import pandas as pd\n",
    "import numpy as np\n",
    "import matplotlib.pyplot as plt\n",
    "from sklearn.metrics import mean_squared_error,mean_absolute_error\n",
    "from sklearn.linear_model import LinearRegression\n",
    "from sklearn.svm import SVR\n",
    "from sklearn.model_selection import train_test_split\n",
    "from sklearn import metrics\n",
    "from sklearn.ensemble import RandomForestRegressor"
   ]
  },
  {
   "cell_type": "markdown",
   "metadata": {
    "colab_type": "text",
    "id": "ZrhRwWKHLdsJ"
   },
   "source": [
    "##  Importing The Dataset"
   ]
  },
  {
   "cell_type": "code",
   "execution_count": 2,
   "metadata": {},
   "outputs": [
    {
     "data": {
      "text/html": [
       "<div>\n",
       "<style scoped>\n",
       "    .dataframe tbody tr th:only-of-type {\n",
       "        vertical-align: middle;\n",
       "    }\n",
       "\n",
       "    .dataframe tbody tr th {\n",
       "        vertical-align: top;\n",
       "    }\n",
       "\n",
       "    .dataframe thead th {\n",
       "        text-align: right;\n",
       "    }\n",
       "</style>\n",
       "<table border=\"1\" class=\"dataframe\">\n",
       "  <thead>\n",
       "    <tr style=\"text-align: right;\">\n",
       "      <th></th>\n",
       "      <th>Day_Count</th>\n",
       "      <th>Date</th>\n",
       "      <th>China</th>\n",
       "      <th>India</th>\n",
       "      <th>Indonesia</th>\n",
       "      <th>Pakistan</th>\n",
       "      <th>United_States</th>\n",
       "    </tr>\n",
       "  </thead>\n",
       "  <tbody>\n",
       "    <tr>\n",
       "      <td>0</td>\n",
       "      <td>1</td>\n",
       "      <td>1/2/2020</td>\n",
       "      <td>259</td>\n",
       "      <td>0</td>\n",
       "      <td>0</td>\n",
       "      <td>0</td>\n",
       "      <td>0</td>\n",
       "    </tr>\n",
       "    <tr>\n",
       "      <td>1</td>\n",
       "      <td>2</td>\n",
       "      <td>2/2/2020</td>\n",
       "      <td>304</td>\n",
       "      <td>0</td>\n",
       "      <td>0</td>\n",
       "      <td>0</td>\n",
       "      <td>0</td>\n",
       "    </tr>\n",
       "    <tr>\n",
       "      <td>2</td>\n",
       "      <td>3</td>\n",
       "      <td>3/2/2020</td>\n",
       "      <td>361</td>\n",
       "      <td>0</td>\n",
       "      <td>0</td>\n",
       "      <td>0</td>\n",
       "      <td>0</td>\n",
       "    </tr>\n",
       "    <tr>\n",
       "      <td>3</td>\n",
       "      <td>4</td>\n",
       "      <td>4/2/2020</td>\n",
       "      <td>426</td>\n",
       "      <td>0</td>\n",
       "      <td>0</td>\n",
       "      <td>0</td>\n",
       "      <td>0</td>\n",
       "    </tr>\n",
       "    <tr>\n",
       "      <td>4</td>\n",
       "      <td>5</td>\n",
       "      <td>5/2/2020</td>\n",
       "      <td>492</td>\n",
       "      <td>0</td>\n",
       "      <td>0</td>\n",
       "      <td>0</td>\n",
       "      <td>0</td>\n",
       "    </tr>\n",
       "  </tbody>\n",
       "</table>\n",
       "</div>"
      ],
      "text/plain": [
       "   Day_Count      Date  China  India  Indonesia  Pakistan  United_States\n",
       "0          1  1/2/2020    259      0          0         0              0\n",
       "1          2  2/2/2020    304      0          0         0              0\n",
       "2          3  3/2/2020    361      0          0         0              0\n",
       "3          4  4/2/2020    426      0          0         0              0\n",
       "4          5  5/2/2020    492      0          0         0              0"
      ]
     },
     "execution_count": 2,
     "metadata": {},
     "output_type": "execute_result"
    }
   ],
   "source": [
    "ds = pd.read_csv('total_deaths.csv')\n",
    "ds.head()"
   ]
  },
  {
   "cell_type": "code",
   "execution_count": 3,
   "metadata": {},
   "outputs": [],
   "source": [
    "X = ds.iloc[:, :1].values\n",
    "y1 = ds.iloc[:, -1].values         #United States\n",
    "y2 = ds.iloc[:, -2].values         #Pakistan\n",
    "y3 = ds.iloc[:, -3].values         #Indonesia\n",
    "y4 = ds.iloc[:, -4].values         #India\n",
    "y5 = ds.iloc[:, -5].values         #China"
   ]
  },
  {
   "cell_type": "markdown",
   "metadata": {},
   "source": [
    "## Training & Testing Of Dataset"
   ]
  },
  {
   "cell_type": "code",
   "execution_count": 4,
   "metadata": {},
   "outputs": [],
   "source": [
    "X_train1, X_test1, y_train1, y_test1 = train_test_split(X, y1, test_size = 1/3, random_state = 0)\n",
    "X_train2, X_test2, y_train2, y_test2 = train_test_split(X, y2, test_size = 1/3, random_state = 0)\n",
    "X_train3, X_test3, y_train3, y_test3 = train_test_split(X, y3, test_size = 1/3, random_state = 0)\n",
    "X_train4, X_test4, y_train4, y_test4 = train_test_split(X, y4, test_size = 1/3, random_state = 0)\n",
    "X_train5, X_test5, y_train5, y_test5 = train_test_split(X, y5, test_size = 1/3, random_state = 0)"
   ]
  },
  {
   "cell_type": "markdown",
   "metadata": {
    "colab_type": "text",
    "id": "jQ2R_NaYmz-y"
   },
   "source": [
    "## **Linear Regression**\n"
   ]
  },
  {
   "cell_type": "code",
   "execution_count": 5,
   "metadata": {},
   "outputs": [],
   "source": [
    "regressor1 = LinearRegression()\n",
    "regressor1.fit(X_train1, y_train1)\n",
    "y_pred1 = regressor1.predict(X_test1)\n",
    "\n",
    "regressor2 = LinearRegression()\n",
    "regressor2.fit(X_train2, y_train2)\n",
    "y_pred2 = regressor2.predict(X_test2)\n",
    "\n",
    "regressor3 = LinearRegression()\n",
    "regressor3.fit(X_train3, y_train3)\n",
    "y_pred3 = regressor3.predict(X_test3)\n",
    "\n",
    "regressor4 = LinearRegression()\n",
    "regressor4.fit(X_train4, y_train4)\n",
    "y_pred4 = regressor4.predict(X_test4)\n",
    "\n",
    "regressor5 = LinearRegression()\n",
    "regressor5.fit(X_train5, y_train5)\n",
    "y_pred5 = regressor5.predict(X_test5)"
   ]
  },
  {
   "cell_type": "code",
   "execution_count": 6,
   "metadata": {},
   "outputs": [
    {
     "name": "stdout",
     "output_type": "stream",
     "text": [
      "Root Mean Square Error using Linear Regression are :\n",
      "\n",
      "United States\t 14178.579415922275\n",
      "Pakistan\t 111.5869797361231\n",
      "Indonesia\t 156.94212806755493\n",
      "India\t\t 357.4585794149861\n",
      "China\t\t 471.7163809737003\n"
     ]
    }
   ],
   "source": [
    "rmse_lr_US = np.sqrt(metrics.mean_squared_error(y_test1,y_pred1))\n",
    "rmse_lr_Pakistan = np.sqrt(metrics.mean_squared_error(y_test2,y_pred2))\n",
    "rmse_lr_Indonesia = np.sqrt(metrics.mean_squared_error(y_test3,y_pred3))\n",
    "rmse_lr_India = np.sqrt(metrics.mean_squared_error(y_test4,y_pred4))\n",
    "rmse_lr_China = np.sqrt(metrics.mean_squared_error(y_test5,y_pred5))\n",
    "\n",
    "print ('Root Mean Square Error using Linear Regression are :\\n')\n",
    "print('United States\\t', rmse_lr_US)\n",
    "print('Pakistan\\t',rmse_lr_Pakistan)\n",
    "print('Indonesia\\t',rmse_lr_Indonesia)\n",
    "print('India\\t\\t',rmse_lr_India)\n",
    "print('China\\t\\t',rmse_lr_China)\n"
   ]
  },
  {
   "cell_type": "markdown",
   "metadata": {
    "colab_type": "text",
    "id": "vUxUr9ugo1je"
   },
   "source": [
    "## **SVR**\n"
   ]
  },
  {
   "cell_type": "code",
   "execution_count": 7,
   "metadata": {},
   "outputs": [
    {
     "name": "stderr",
     "output_type": "stream",
     "text": [
      "C:\\Users\\Akash\\Anaconda3\\lib\\site-packages\\sklearn\\svm\\base.py:193: FutureWarning: The default value of gamma will change from 'auto' to 'scale' in version 0.22 to account better for unscaled features. Set gamma explicitly to 'auto' or 'scale' to avoid this warning.\n",
      "  \"avoid this warning.\", FutureWarning)\n",
      "C:\\Users\\Akash\\Anaconda3\\lib\\site-packages\\sklearn\\svm\\base.py:193: FutureWarning: The default value of gamma will change from 'auto' to 'scale' in version 0.22 to account better for unscaled features. Set gamma explicitly to 'auto' or 'scale' to avoid this warning.\n",
      "  \"avoid this warning.\", FutureWarning)\n",
      "C:\\Users\\Akash\\Anaconda3\\lib\\site-packages\\sklearn\\svm\\base.py:193: FutureWarning: The default value of gamma will change from 'auto' to 'scale' in version 0.22 to account better for unscaled features. Set gamma explicitly to 'auto' or 'scale' to avoid this warning.\n",
      "  \"avoid this warning.\", FutureWarning)\n",
      "C:\\Users\\Akash\\Anaconda3\\lib\\site-packages\\sklearn\\svm\\base.py:193: FutureWarning: The default value of gamma will change from 'auto' to 'scale' in version 0.22 to account better for unscaled features. Set gamma explicitly to 'auto' or 'scale' to avoid this warning.\n",
      "  \"avoid this warning.\", FutureWarning)\n",
      "C:\\Users\\Akash\\Anaconda3\\lib\\site-packages\\sklearn\\svm\\base.py:193: FutureWarning: The default value of gamma will change from 'auto' to 'scale' in version 0.22 to account better for unscaled features. Set gamma explicitly to 'auto' or 'scale' to avoid this warning.\n",
      "  \"avoid this warning.\", FutureWarning)\n"
     ]
    }
   ],
   "source": [
    "svr1=SVR(kernel='poly',degree=2)\n",
    "svr1.fit(X_train1,y_train1)\n",
    "y_pred1=svr1.predict(X_test1)\n",
    "\n",
    "svr2=SVR(kernel='poly',degree=2)\n",
    "svr2.fit(X_train2,y_train2)\n",
    "y_pred2=svr2.predict(X_test2)\n",
    "\n",
    "svr3=SVR(kernel='poly',degree=2)\n",
    "svr3.fit(X_train3,y_train3)\n",
    "y_pred3=svr3.predict(X_test3)\n",
    "\n",
    "svr4=SVR(kernel='poly',degree=2)\n",
    "svr4.fit(X_train4,y_train4)\n",
    "y_pred4=svr4.predict(X_test4)\n",
    "\n",
    "svr5=SVR(kernel='poly',degree=2)\n",
    "svr5.fit(X_train5,y_train5)\n",
    "y_pred5=svr5.predict(X_test5)\n",
    "\n"
   ]
  },
  {
   "cell_type": "code",
   "execution_count": 8,
   "metadata": {},
   "outputs": [
    {
     "name": "stdout",
     "output_type": "stream",
     "text": [
      "Root Mean Square Error using SVM are :\n",
      "\n",
      "United States\t 8870.359996448426\n",
      "Pakistan\t 90.01178201438363\n",
      "Indonesia\t 90.31158384409066\n",
      "India\t\t 293.90806559295703\n",
      "China\t\t 805.4695382015766\n"
     ]
    }
   ],
   "source": [
    "rmse_SVM_US = np.sqrt(metrics.mean_squared_error(y_test1,y_pred1))\n",
    "rmse_SVM_Pakistan = np.sqrt(metrics.mean_squared_error(y_test2,y_pred2))\n",
    "rmse_SVM_Indonesia = np.sqrt(metrics.mean_squared_error(y_test3,y_pred3))\n",
    "rmse_SVM_India = np.sqrt(metrics.mean_squared_error(y_test4,y_pred4))\n",
    "rmse_SVM_China = np.sqrt(metrics.mean_squared_error(y_test5,y_pred5))\n",
    "\n",
    "print ('Root Mean Square Error using SVM are :\\n')\n",
    "print('United States\\t', rmse_SVM_US)\n",
    "print('Pakistan\\t',rmse_SVM_Pakistan)\n",
    "print('Indonesia\\t',rmse_SVM_Indonesia)\n",
    "print('India\\t\\t',rmse_SVM_India)\n",
    "print('China\\t\\t',rmse_SVM_China)"
   ]
  },
  {
   "cell_type": "markdown",
   "metadata": {},
   "source": [
    "# Random Forest"
   ]
  },
  {
   "cell_type": "code",
   "execution_count": 9,
   "metadata": {},
   "outputs": [],
   "source": [
    "rfr1=RandomForestRegressor(n_estimators=300,random_state=0)\n",
    "rfr1.fit(X_train1,y_train1)\n",
    "y_pred1=rfr1.predict(X_test1)\n",
    "\n",
    "rfr2=RandomForestRegressor(n_estimators=300,random_state=0)\n",
    "rfr2.fit(X_train2,y_train2)\n",
    "y_pred2=rfr2.predict(X_test2)\n",
    "\n",
    "rfr3=RandomForestRegressor(n_estimators=300,random_state=0)\n",
    "rfr3.fit(X_train3,y_train3)\n",
    "y_pred3=rfr3.predict(X_test3)\n",
    "\n",
    "rfr4=RandomForestRegressor(n_estimators=300,random_state=0)\n",
    "rfr4.fit(X_train4,y_train4)\n",
    "y_pred4=rfr4.predict(X_test4)\n",
    "\n",
    "rfr5=RandomForestRegressor(n_estimators=300,random_state=0)\n",
    "rfr5.fit(X_train5,y_train5)\n",
    "y_pred5=rfr5.predict(X_test5)"
   ]
  },
  {
   "cell_type": "code",
   "execution_count": 10,
   "metadata": {},
   "outputs": [
    {
     "name": "stdout",
     "output_type": "stream",
     "text": [
      "Root Mean Square Error using Random Forest are :\n",
      "\n",
      "United States\t 795.6202202156586\n",
      "Pakistan\t 9.160379858407987\n",
      "Indonesia\t 7.408481228811151\n",
      "India\t\t 41.345474715037014\n",
      "China\t\t 88.18309661954366\n"
     ]
    }
   ],
   "source": [
    "rmse_RF_US = np.sqrt(metrics.mean_squared_error(y_test1,y_pred1))\n",
    "rmse_RF_Pakistan = np.sqrt(metrics.mean_squared_error(y_test2,y_pred2))\n",
    "rmse_RF_Indonesia = np.sqrt(metrics.mean_squared_error(y_test3,y_pred3))\n",
    "rmse_RF_India = np.sqrt(metrics.mean_squared_error(y_test4,y_pred4))\n",
    "rmse_RF_China = np.sqrt(metrics.mean_squared_error(y_test5,y_pred5))\n",
    "\n",
    "print ('Root Mean Square Error using Random Forest are :\\n')\n",
    "print('United States\\t', rmse_RF_US)\n",
    "print('Pakistan\\t',rmse_RF_Pakistan)\n",
    "print('Indonesia\\t',rmse_RF_Indonesia)\n",
    "print('India\\t\\t',rmse_RF_India)\n",
    "print('China\\t\\t',rmse_RF_China)"
   ]
  },
  {
   "cell_type": "markdown",
   "metadata": {
    "colab_type": "text",
    "id": "b421ydtrrYaM"
   },
   "source": [
    "# **Conclusion**"
   ]
  },
  {
   "cell_type": "markdown",
   "metadata": {},
   "source": [
    "# 1. United States"
   ]
  },
  {
   "cell_type": "code",
   "execution_count": 11,
   "metadata": {},
   "outputs": [
    {
     "data": {
      "image/png": "[encoded data removed]",
      "text/plain": [
       "<Figure size 432x288 with 1 Axes>"
      ]
     },
     "metadata": {
      "needs_background": "light"
     },
     "output_type": "display_data"
    },
    {
     "name": "stdout",
     "output_type": "stream",
     "text": [
      "The best algorithm is Random Forest with rmse value:  795.6202202156586\n"
     ]
    }
   ],
   "source": [
    "plt.scatter(X_test1,y_test1,color='magenta',label='Actual Value')\n",
    "plt.scatter(X_test1,regressor1.predict(X_test1),color='brown',label='Linear Regression')\n",
    "plt.scatter(X_test1,svr1.predict(X_test1),color='purple',label='SVR')\n",
    "plt.scatter(X_test1,rfr1.predict(X_test1),color='aqua',label='Random Forest')\n",
    "plt.title('USA Total Deaths')\n",
    "plt.xlabel('Number Of Days')\n",
    "plt.legend()\n",
    "plt.ylabel('Number Of Deaths')\n",
    "plt.show()\n",
    "\n",
    "if(min(rmse_lr_US,rmse_SVM_US,rmse_RF_US) == rmse_lr_US):\n",
    "    print('The best algorithm  is Logistic Regression with rmse value: ', rmse_lr_US)\n",
    "elif(min(rmse_lr_US,rmse_SVM_US,rmse_RF_US) == rmse_SVM_US):\n",
    "    print('The best algorithm is SVM with rmse value: ', rmse_SVM_US)\n",
    "else:\n",
    "    print('The best algorithm is Random Forest with rmse value: ', rmse_RF_US)"
   ]
  },
  {
   "cell_type": "markdown",
   "metadata": {},
   "source": [
    "# 2. Pakistan"
   ]
  },
  {
   "cell_type": "code",
   "execution_count": 12,
   "metadata": {},
   "outputs": [
    {
     "data": {
      "image/png": "[encoded data removed]",
      "text/plain": [
       "<Figure size 432x288 with 1 Axes>"
      ]
     },
     "metadata": {
      "needs_background": "light"
     },
     "output_type": "display_data"
    },
    {
     "name": "stdout",
     "output_type": "stream",
     "text": [
      "The best algorithm is Random Forest with rmse value:  9.160379858407987\n"
     ]
    }
   ],
   "source": [
    "plt.scatter(X_test2,y_test2,color='magenta',label='Actual Value')\n",
    "plt.scatter(X_test2,regressor2.predict(X_test2),color='brown',label='Linear Regression')\n",
    "plt.scatter(X_test2,svr2.predict(X_test2),color='purple',label='SVR')\n",
    "plt.scatter(X_test2,rfr2.predict(X_test2),color='aqua',label='Random Forest')\n",
    "plt.title('Pakistan Total Deaths')\n",
    "plt.xlabel('Number Of Days')\n",
    "plt.legend()\n",
    "plt.ylabel('Number Of Deaths')\n",
    "plt.show()\n",
    "\n",
    "\n",
    "if(min(rmse_lr_Pakistan,rmse_SVM_Pakistan,rmse_RF_Pakistan) == rmse_lr_Pakistan):\n",
    "    print('The best algorithm is Logistic Regression with rmse value: ', rmse_lr_Pakistan)\n",
    "elif(min(rmse_lr_Pakistan,rmse_SVM_Pakistan,rmse_RF_Pakistan) == rmse_SVM_Pakistan):\n",
    "    print('The best algorithm is SVM with rmse value: ', rmse_SVM_Pakistan)\n",
    "else:\n",
    "    print('The best algorithm is Random Forest with rmse value: ', rmse_RF_Pakistan)"
   ]
  },
  {
   "cell_type": "markdown",
   "metadata": {},
   "source": [
    "# 3. Indonesia"
   ]
  },
  {
   "cell_type": "code",
   "execution_count": 13,
   "metadata": {},
   "outputs": [
    {
     "data": {
      "image/png": "[encoded data removed]",
      "text/plain": [
       "<Figure size 432x288 with 1 Axes>"
      ]
     },
     "metadata": {
      "needs_background": "light"
     },
     "output_type": "display_data"
    },
    {
     "name": "stdout",
     "output_type": "stream",
     "text": [
      "The best algorithm is Random Forest with rmse value:  7.408481228811151\n"
     ]
    }
   ],
   "source": [
    "plt.scatter(X_test3,y_test3,color='magenta',label='Actual Value')\n",
    "plt.scatter(X_test3,regressor3.predict(X_test3),color='brown',label='Linear Regression')\n",
    "plt.scatter(X_test3,svr3.predict(X_test3),color='purple',label='SVR')\n",
    "plt.scatter(X_test3,rfr3.predict(X_test3),color='aqua',label='Random Forest')\n",
    "plt.title('Indonesia Total Deaths')\n",
    "plt.xlabel('Number Of Days')\n",
    "plt.legend()\n",
    "plt.ylabel('Number Of Deaths')\n",
    "plt.show()\n",
    "\n",
    "\n",
    "if(min(rmse_lr_Indonesia,rmse_SVM_Indonesia,rmse_RF_Indonesia) == rmse_lr_Indonesia):\n",
    "    print('The best algorithm is Logistic Regression with rmse value: ', rmse_lr_Indonesia)\n",
    "elif(min(rmse_lr_Indonesia,rmse_SVM_Indonesia,rmse_RF_Indonesia) == rmse_SVM_Indonesia):\n",
    "    print('The best algorithm is SVM with rmse value: ', rmse_SVM_Indonesia)\n",
    "else:\n",
    "    print('The best algorithm is Random Forest with rmse value: ', rmse_RF_Indonesia)"
   ]
  },
  {
   "cell_type": "markdown",
   "metadata": {},
   "source": [
    "# 4. India"
   ]
  },
  {
   "cell_type": "code",
   "execution_count": 14,
   "metadata": {},
   "outputs": [
    {
     "data": {
      "image/png": "[encoded data removed]",
      "text/plain": [
       "<Figure size 432x288 with 1 Axes>"
      ]
     },
     "metadata": {
      "needs_background": "light"
     },
     "output_type": "display_data"
    },
    {
     "name": "stdout",
     "output_type": "stream",
     "text": [
      "The best algorithm is Random Forest with rmse value:  41.345474715037014\n"
     ]
    }
   ],
   "source": [
    "plt.scatter(X_test4,y_test4,color='magenta',label='Actual Value')\n",
    "plt.scatter(X_test4,regressor4.predict(X_test4),color='brown',label='Linear Regression')\n",
    "plt.scatter(X_test4,svr4.predict(X_test4),color='purple',label='SVR')\n",
    "plt.scatter(X_test4,rfr4.predict(X_test4),color='aqua',label='Random Forest')\n",
    "plt.title('India Total Deaths')\n",
    "plt.xlabel('Number Of Days')\n",
    "plt.legend()\n",
    "plt.ylabel('Number Of Deaths')\n",
    "plt.show()\n",
    "\n",
    "\n",
    "if(min(rmse_lr_India,rmse_SVM_India,rmse_RF_India) == rmse_lr_India):\n",
    "    print('The best algorithm is Logistic Regression with rmse value: ', rmse_lr_US)\n",
    "elif(min(rmse_lr_India,rmse_SVM_India,rmse_RF_India) == rmse_SVM_India):\n",
    "    print('The best algoritmh is SVM with rmse value: ', rmse_SVM_India)\n",
    "else:\n",
    "    print('The best algorithm is Random Forest with rmse value: ', rmse_RF_India)"
   ]
  },
  {
   "cell_type": "markdown",
   "metadata": {},
   "source": [
    "# 5. China"
   ]
  },
  {
   "cell_type": "code",
   "execution_count": 15,
   "metadata": {},
   "outputs": [
    {
     "data": {
      "image/png": "[encoded data removed]",
      "text/plain": [
       "<Figure size 432x288 with 1 Axes>"
      ]
     },
     "metadata": {
      "needs_background": "light"
     },
     "output_type": "display_data"
    },
    {
     "name": "stdout",
     "output_type": "stream",
     "text": [
      "The best algorithm is Random Forest with rmse value:  88.18309661954366\n"
     ]
    }
   ],
   "source": [
    "plt.scatter(X_test5,y_test5,color='magenta',label='Actual Value')\n",
    "plt.scatter(X_test5,regressor5.predict(X_test5),color='brown',label='Linear Regression')\n",
    "plt.scatter(X_test5,svr5.predict(X_test5),color='purple',label='SVR')\n",
    "plt.scatter(X_test5,rfr5.predict(X_test5),color='aqua',label='Random Forest')\n",
    "plt.title('China Total Deaths')\n",
    "plt.xlabel('Number Of Days')\n",
    "plt.legend()\n",
    "plt.ylabel('Number Of Deaths')\n",
    "plt.show()\n",
    "\n",
    "if(min(rmse_lr_China,rmse_SVM_China,rmse_RF_China) == rmse_lr_China):\n",
    "    print('The best algorithm is Logistic Regression with rmse value: ', rmse_lr_China)\n",
    "elif(min(rmse_lr_China,rmse_SVM_China,rmse_RF_China) == rmse_SVM_China):\n",
    "    print('The best algorithm is SVM with rmse value: ', rmse_SVM_China)\n",
    "else:\n",
    "    print('The best algorithm is Random Forest with rmse value: ', rmse_RF_China)"
   ]
  }
 ],
 "metadata": {
  "kernelspec": {
   "display_name": "Python 3",
   "language": "python",
   "name": "python3"
  },
  "language_info": {
   "codemirror_mode": {
    "name": "ipython",
    "version": 3
   },
   "file_extension": ".py",
   "mimetype": "text/x-python",
   "name": "python",
   "nbconvert_exporter": "python",
   "pygments_lexer": "ipython3",
   "version": "3.7.4"
  }
 },
 "nbformat": 4,
 "nbformat_minor": 2
}
